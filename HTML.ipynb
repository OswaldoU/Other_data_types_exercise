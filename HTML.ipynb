{
 "cells": [
  {
   "cell_type": "markdown",
   "metadata": {},
   "source": [
    "# HTML"
   ]
  },
  {
   "cell_type": "markdown",
   "metadata": {},
   "source": [
    "### In this activity, we will learn how we can load HTML tables directly into Pandas, and learn the basics of web scraping which is a very popular way of data gathering.\n",
    "\n",
    "### If a webpage (HTML) has a table inside, we can easily extract it with Pandas and requests.\n",
    "\n"
   ]
  },
  {
   "cell_type": "code",
   "execution_count": 15,
   "metadata": {},
   "outputs": [
    {
     "name": "stdout",
     "output_type": "stream",
     "text": [
      "Collecting package metadata (current_repodata.json): done\n",
      "Solving environment: done\n",
      "\n",
      "## Package Plan ##\n",
      "\n",
      "  environment location: /opt/homebrew/Caskroom/miniforge/base/envs/THE_ONE\n",
      "\n",
      "  added / updated specs:\n",
      "    - lxml\n",
      "\n",
      "\n",
      "The following packages will be downloaded:\n",
      "\n",
      "    package                    |            build\n",
      "    ---------------------------|-----------------\n",
      "    libiconv-1.17              |       he4db4b2_0         1.3 MB  conda-forge\n",
      "    libxml2-2.10.3             |       h87b0503_0         632 KB  conda-forge\n",
      "    libxslt-1.1.37             |       h1bd8bc4_0         231 KB  conda-forge\n",
      "    lxml-4.9.1                 |   py38h43d3e64_1         1.3 MB  conda-forge\n",
      "    ------------------------------------------------------------\n",
      "                                           Total:         3.5 MB\n",
      "\n",
      "The following NEW packages will be INSTALLED:\n",
      "\n",
      "  libiconv           conda-forge/osx-arm64::libiconv-1.17-he4db4b2_0 None\n",
      "  libxml2            conda-forge/osx-arm64::libxml2-2.10.3-h87b0503_0 None\n",
      "  libxslt            conda-forge/osx-arm64::libxslt-1.1.37-h1bd8bc4_0 None\n",
      "  lxml               conda-forge/osx-arm64::lxml-4.9.1-py38h43d3e64_1 None\n",
      "\n",
      "\n",
      "\n",
      "Downloading and Extracting Packages\n",
      "libxslt-1.1.37       | 231 KB    | ##################################### | 100% \n",
      "lxml-4.9.1           | 1.3 MB    | ##################################### | 100% \n",
      "libiconv-1.17        | 1.3 MB    | ##################################### | 100% \n",
      "libxml2-2.10.3       | 632 KB    | ##################################### | 100% \n",
      "Preparing transaction: done\n",
      "Verifying transaction: done\n",
      "Executing transaction: done\n",
      "Retrieving notices: ...working... done\n"
     ]
    }
   ],
   "source": [
    "!conda install lxml --yes"
   ]
  },
  {
   "cell_type": "code",
   "execution_count": 1,
   "metadata": {},
   "outputs": [],
   "source": [
    "import pandas as pd \n",
    "import requests"
   ]
  },
  {
   "cell_type": "code",
   "execution_count": 2,
   "metadata": {},
   "outputs": [],
   "source": [
    "import lxml"
   ]
  },
  {
   "cell_type": "markdown",
   "metadata": {},
   "source": [
    "### We will work with the URL https://www.worldcoinindex.com/."
   ]
  },
  {
   "cell_type": "markdown",
   "metadata": {},
   "source": [
    "### Visit the URL in a browser and explore the source code. See if there are any <td> tags."
   ]
  },
  {
   "cell_type": "code",
   "execution_count": 3,
   "metadata": {},
   "outputs": [
    {
     "data": {
      "text/plain": [
       "<Response [200]>"
      ]
     },
     "execution_count": 3,
     "metadata": {},
     "output_type": "execute_result"
    }
   ],
   "source": [
    "### Now, we will download the source code to Python.\n",
    "url = 'https://www.worldcoinindex.com/'\n",
    "crypto_url = requests.get(url)\n",
    "crypto_url"
   ]
  },
  {
   "cell_type": "markdown",
   "metadata": {},
   "source": [
    "### We already talked about these responses in the APIs section. To take the body we need to take the attribute text."
   ]
  },
  {
   "cell_type": "code",
   "execution_count": 4,
   "metadata": {},
   "outputs": [],
   "source": [
    "body = crypto_url.text"
   ]
  },
  {
   "cell_type": "markdown",
   "metadata": {},
   "source": [
    "### Body now consists of full HTML source code of our webpage. Now if the HTML source has a table which is marked by the HTML tag <table></table> (this tag is used for defining a table in HTML) Pandas uses read_html() to extract the table from the HTML document."
   ]
  },
  {
   "cell_type": "markdown",
   "metadata": {},
   "source": [
    "#### So, whenever you pass an HTML to pandas and expect it to output a nice looking data-frame, make sure the HTML page has a table in it!"
   ]
  },
  {
   "cell_type": "code",
   "execution_count": 5,
   "metadata": {},
   "outputs": [
    {
     "name": "stdout",
     "output_type": "stream",
     "text": [
      "<class 'list'>\n",
      "1\n"
     ]
    }
   ],
   "source": [
    "crypto_data = pd.read_html(body)\n",
    "print(type(crypto_data))\n",
    "print(len(crypto_data))"
   ]
  },
  {
   "cell_type": "code",
   "execution_count": 6,
   "metadata": {},
   "outputs": [
    {
     "data": {
      "text/html": [
       "<div>\n",
       "<style scoped>\n",
       "    .dataframe tbody tr th:only-of-type {\n",
       "        vertical-align: middle;\n",
       "    }\n",
       "\n",
       "    .dataframe tbody tr th {\n",
       "        vertical-align: top;\n",
       "    }\n",
       "\n",
       "    .dataframe thead th {\n",
       "        text-align: right;\n",
       "    }\n",
       "</style>\n",
       "<table border=\"1\" class=\"dataframe\">\n",
       "  <thead>\n",
       "    <tr style=\"text-align: right;\">\n",
       "      <th></th>\n",
       "      <th>#</th>\n",
       "      <th>Unnamed: 1</th>\n",
       "      <th>Name</th>\n",
       "      <th>Ticker</th>\n",
       "      <th>Last price</th>\n",
       "      <th>%</th>\n",
       "      <th>24 high</th>\n",
       "      <th>24 low</th>\n",
       "      <th>Price Charts 7d</th>\n",
       "      <th>24 volume</th>\n",
       "      <th># Coins</th>\n",
       "      <th>Market cap</th>\n",
       "    </tr>\n",
       "  </thead>\n",
       "  <tbody>\n",
       "    <tr>\n",
       "      <th>0</th>\n",
       "      <td>1</td>\n",
       "      <td>NaN</td>\n",
       "      <td>Bitcoin</td>\n",
       "      <td>BTC</td>\n",
       "      <td>$ 16,817</td>\n",
       "      <td>-1.60%</td>\n",
       "      <td>$ 17,130</td>\n",
       "      <td>$ 16,735</td>\n",
       "      <td>NaN</td>\n",
       "      <td>$ 6.69B</td>\n",
       "      <td>19.22M</td>\n",
       "      <td>$ 323.32B</td>\n",
       "    </tr>\n",
       "    <tr>\n",
       "      <th>1</th>\n",
       "      <td>2</td>\n",
       "      <td>NaN</td>\n",
       "      <td>Ethereum</td>\n",
       "      <td>ETH</td>\n",
       "      <td>$ 1,230.58</td>\n",
       "      <td>-3.20%</td>\n",
       "      <td>$ 1,274.86</td>\n",
       "      <td>$ 1,222.39</td>\n",
       "      <td>NaN</td>\n",
       "      <td>$ 2.76B</td>\n",
       "      <td>122.37M</td>\n",
       "      <td>$ 150.59B</td>\n",
       "    </tr>\n",
       "    <tr>\n",
       "      <th>2</th>\n",
       "      <td>3</td>\n",
       "      <td>NaN</td>\n",
       "      <td>Binanceusd</td>\n",
       "      <td>BUSD</td>\n",
       "      <td>$ 1.00</td>\n",
       "      <td>+0.01%</td>\n",
       "      <td>$ 1.00</td>\n",
       "      <td>$ 0.998175</td>\n",
       "      <td>NaN</td>\n",
       "      <td>$ 594.35M</td>\n",
       "      <td>1.68B</td>\n",
       "      <td>$ 1.68B</td>\n",
       "    </tr>\n",
       "    <tr>\n",
       "      <th>3</th>\n",
       "      <td>4</td>\n",
       "      <td>NaN</td>\n",
       "      <td>Ripple</td>\n",
       "      <td>XRP</td>\n",
       "      <td>$ 0.381918</td>\n",
       "      <td>-2.35%</td>\n",
       "      <td>$ 0.391940</td>\n",
       "      <td>$ 0.375448</td>\n",
       "      <td>NaN</td>\n",
       "      <td>$ 478.25M</td>\n",
       "      <td>50.26B</td>\n",
       "      <td>$ 19.19B</td>\n",
       "    </tr>\n",
       "    <tr>\n",
       "      <th>4</th>\n",
       "      <td>5</td>\n",
       "      <td>NaN</td>\n",
       "      <td>Dogecoin</td>\n",
       "      <td>DOGE</td>\n",
       "      <td>$ 0.095810</td>\n",
       "      <td>-4.33%</td>\n",
       "      <td>$ 0.101137</td>\n",
       "      <td>$ 0.094848</td>\n",
       "      <td>NaN</td>\n",
       "      <td>$ 450.93M</td>\n",
       "      <td>129.40B</td>\n",
       "      <td>$ 12.39B</td>\n",
       "    </tr>\n",
       "  </tbody>\n",
       "</table>\n",
       "</div>"
      ],
      "text/plain": [
       "   # Unnamed: 1        Name Ticker  Last price       %     24 high  \\\n",
       "0  1        NaN     Bitcoin    BTC    $ 16,817  -1.60%    $ 17,130   \n",
       "1  2        NaN    Ethereum    ETH  $ 1,230.58  -3.20%  $ 1,274.86   \n",
       "2  3        NaN  Binanceusd   BUSD      $ 1.00  +0.01%      $ 1.00   \n",
       "3  4        NaN      Ripple    XRP  $ 0.381918  -2.35%  $ 0.391940   \n",
       "4  5        NaN    Dogecoin   DOGE  $ 0.095810  -4.33%  $ 0.101137   \n",
       "\n",
       "       24 low Price Charts 7d  24 volume  # Coins Market cap  \n",
       "0    $ 16,735             NaN    $ 6.69B   19.22M  $ 323.32B  \n",
       "1  $ 1,222.39             NaN    $ 2.76B  122.37M  $ 150.59B  \n",
       "2  $ 0.998175             NaN  $ 594.35M    1.68B    $ 1.68B  \n",
       "3  $ 0.375448             NaN  $ 478.25M   50.26B   $ 19.19B  \n",
       "4  $ 0.094848             NaN  $ 450.93M  129.40B   $ 12.39B  "
      ]
     },
     "execution_count": 6,
     "metadata": {},
     "output_type": "execute_result"
    }
   ],
   "source": [
    "crypto_data = crypto_data[0]\n",
    "crypto_data.head()"
   ]
  },
  {
   "cell_type": "markdown",
   "metadata": {},
   "source": [
    "\n",
    "# What if there is no table in HTML?\n"
   ]
  },
  {
   "cell_type": "markdown",
   "metadata": {},
   "source": [
    "### If we want to extract information from HTML, which doesn't have a table, we need to use a different approach: Scraping. Fortunately, Python has a great package for this called Beautiful Soup."
   ]
  },
  {
   "cell_type": "markdown",
   "metadata": {},
   "source": []
  }
 ],
 "metadata": {
  "kernelspec": {
   "display_name": "Python 3.8.15 ('THE_ONE')",
   "language": "python",
   "name": "python3"
  },
  "language_info": {
   "codemirror_mode": {
    "name": "ipython",
    "version": 3
   },
   "file_extension": ".py",
   "mimetype": "text/x-python",
   "name": "python",
   "nbconvert_exporter": "python",
   "pygments_lexer": "ipython3",
   "version": "3.8.15"
  },
  "orig_nbformat": 4,
  "vscode": {
   "interpreter": {
    "hash": "6ad95572a1c15de1d0b8eca79c7b9cd5028505873e2c71ff56ffc4343ef0b428"
   }
  }
 },
 "nbformat": 4,
 "nbformat_minor": 2
}
